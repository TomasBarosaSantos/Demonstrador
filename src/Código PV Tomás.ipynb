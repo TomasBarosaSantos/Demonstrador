{
 "cells": [
  {
   "cell_type": "code",
   "execution_count": 1,
   "id": "8b5f5958",
   "metadata": {},
   "outputs": [
    {
     "name": "stderr",
     "output_type": "stream",
     "text": [
      "c:\\Users\\tomas.m.santos\\AppData\\Local\\anaconda3\\Lib\\site-packages\\sklearn\\base.py:318: UserWarning: Trying to unpickle estimator SVR from version 1.4.2 when using version 1.2.2. This might lead to breaking code or invalid results. Use at your own risk. For more info please refer to:\n",
      "https://scikit-learn.org/stable/model_persistence.html#security-maintainability-limitations\n",
      "  warnings.warn(\n"
     ]
    }
   ],
   "source": [
    "import pandas as pd\n",
    "import pickle\n",
    "import numpy as np\n",
    "\n",
    "# Load the dataset\n",
    "dataset_PV_Pred = pd.read_csv('Dataset_PV_Pred.csv')\n",
    "\n",
    "Hour_Parameters = pd.read_csv('Parametros_Horarios_SVR+SA_PV_NorteShopping(Hist(12)+Temp(Hist+Prev)).csv')\n",
    "Hour_Parameters.columns.values[0] = 'Hour'\n",
    "\n",
    "\n",
    "# Load the SVR model\n",
    "with open('SVR_Model.pkl', 'rb') as file:\n",
    "    svr_model = pickle.load(file)\n"
   ]
  },
  {
   "cell_type": "code",
   "execution_count": 2,
   "id": "90b888db",
   "metadata": {},
   "outputs": [
    {
     "name": "stdout",
     "output_type": "stream",
     "text": [
      "(17136, 1)\n"
     ]
    }
   ],
   "source": [
    "Predicted_Values = []\n",
    "\n",
    "for h in range(0, 24):\n",
    "    # Select rows where 'Hora' is equal to h\n",
    "    Inputs_hora = dataset_PV_Pred.loc[dataset_PV_Pred['Hora'] == h].iloc[:, 2:]\n",
    "    Outputs_hora = dataset_PV_Pred.loc[dataset_PV_Pred['Hora'] == h].iloc[:, 1]\n",
    "    # Set SVR model parameters for the current Hora\n",
    "    svr_model.set_params(\n",
    "        C=Hour_Parameters.loc[Hour_Parameters['Hour'] == h, 'C'].values[0],\n",
    "        gamma=Hour_Parameters.loc[Hour_Parameters['Hour'] == h, 'gamma'].values[0],\n",
    "        epsilon=Hour_Parameters.loc[Hour_Parameters['Hour'] == h, 'epsilon'].values[0],\n",
    "        kernel='rbf'\n",
    "    )\n",
    "\n",
    "    # Prepare the input data for prediction\n",
    "    X = Inputs_hora[['Lag51', 'Lag50', 'Lag49', 'Lag48', 'Lag27', 'Lag26', 'Lag25', 'Lag24', 'Lag3', 'Lag2', 'Lag1', 'Temperatura_24H', 'Temperatura_Prev']]\n",
    "    X = X.values.reshape(-1, 13)  # Reshape to 2D array for prediction\n",
    "    Y = Outputs_hora\n",
    "    # Fit the SVR model to the data\n",
    "    svr_model.fit(X, Y) \n",
    "    # Predict using the SVR model\n",
    "    Y_pred = svr_model.predict(X)\n",
    "    # Append the predicted values to the list\n",
    "    Predicted_Values.append(Y_pred)\n",
    "\n",
    "\n",
    "Previsoes = np.array(Predicted_Values).T.reshape(-1, 1)\n",
    "print(Previsoes.shape)"
   ]
  },
  {
   "cell_type": "code",
   "execution_count": 3,
   "id": "50db73b0",
   "metadata": {},
   "outputs": [
    {
     "data": {
      "application/vnd.microsoft.datawrangler.viewer.v0+json": {
       "columns": [
        {
         "name": "index",
         "rawType": "int64",
         "type": "integer"
        },
        {
         "name": "Previsao",
         "rawType": "float64",
         "type": "float"
        }
       ],
       "conversionMethod": "pd.DataFrame",
       "ref": "57cad3e6-8a70-4b01-9588-4982d09bf3c5",
       "rows": [
        [
         "0",
         "0.0"
        ],
        [
         "1",
         "0.0"
        ],
        [
         "2",
         "0.0"
        ],
        [
         "3",
         "0.0"
        ],
        [
         "4",
         "0.0"
        ],
        [
         "5",
         "0.0"
        ],
        [
         "6",
         "0.6230842491122579"
        ],
        [
         "7",
         "0.2863978239180973"
        ],
        [
         "8",
         "1.5134547449761744"
        ],
        [
         "9",
         "27.982942546781317"
        ],
        [
         "10",
         "129.0636815401375"
        ],
        [
         "11",
         "287.2368820098611"
        ],
        [
         "12",
         "392.27526751377354"
        ],
        [
         "13",
         "381.945188009429"
        ],
        [
         "14",
         "403.1221926971238"
        ],
        [
         "15",
         "363.2755736075072"
        ],
        [
         "16",
         "253.75200481070095"
        ],
        [
         "17",
         "98.80642116986803"
        ],
        [
         "18",
         "7.293887344377225"
        ],
        [
         "19",
         "-1.3995152784704885"
        ],
        [
         "20",
         "0.15788956590021996"
        ],
        [
         "21",
         "0.0"
        ],
        [
         "22",
         "0.0"
        ],
        [
         "23",
         "0.0"
        ],
        [
         "24",
         "0.0"
        ],
        [
         "25",
         "0.0"
        ],
        [
         "26",
         "0.0"
        ],
        [
         "27",
         "0.0"
        ],
        [
         "28",
         "0.0"
        ],
        [
         "29",
         "0.0"
        ],
        [
         "30",
         "0.1927627064494053"
        ],
        [
         "31",
         "0.32181265745969156"
        ],
        [
         "32",
         "2.230379269628715"
        ],
        [
         "33",
         "41.9900670617057"
        ],
        [
         "34",
         "152.91100895555343"
        ],
        [
         "35",
         "282.9179041735963"
        ],
        [
         "36",
         "360.29653266877085"
        ],
        [
         "37",
         "413.2388441649195"
        ],
        [
         "38",
         "407.7235011137211"
        ],
        [
         "39",
         "369.2643234687616"
        ],
        [
         "40",
         "251.33110850637115"
        ],
        [
         "41",
         "104.62793161119191"
        ],
        [
         "42",
         "6.4207504367596755"
        ],
        [
         "43",
         "-0.8329593091662844"
        ],
        [
         "44",
         "0.11841069025278728"
        ],
        [
         "45",
         "0.0"
        ],
        [
         "46",
         "0.0"
        ],
        [
         "47",
         "0.0"
        ],
        [
         "48",
         "0.0"
        ],
        [
         "49",
         "0.0"
        ]
       ],
       "shape": {
        "columns": 1,
        "rows": 17136
       }
      },
      "text/html": [
       "<div>\n",
       "<style scoped>\n",
       "    .dataframe tbody tr th:only-of-type {\n",
       "        vertical-align: middle;\n",
       "    }\n",
       "\n",
       "    .dataframe tbody tr th {\n",
       "        vertical-align: top;\n",
       "    }\n",
       "\n",
       "    .dataframe thead th {\n",
       "        text-align: right;\n",
       "    }\n",
       "</style>\n",
       "<table border=\"1\" class=\"dataframe\">\n",
       "  <thead>\n",
       "    <tr style=\"text-align: right;\">\n",
       "      <th></th>\n",
       "      <th>Previsao</th>\n",
       "    </tr>\n",
       "  </thead>\n",
       "  <tbody>\n",
       "    <tr>\n",
       "      <th>0</th>\n",
       "      <td>0.000000</td>\n",
       "    </tr>\n",
       "    <tr>\n",
       "      <th>1</th>\n",
       "      <td>0.000000</td>\n",
       "    </tr>\n",
       "    <tr>\n",
       "      <th>2</th>\n",
       "      <td>0.000000</td>\n",
       "    </tr>\n",
       "    <tr>\n",
       "      <th>3</th>\n",
       "      <td>0.000000</td>\n",
       "    </tr>\n",
       "    <tr>\n",
       "      <th>4</th>\n",
       "      <td>0.000000</td>\n",
       "    </tr>\n",
       "    <tr>\n",
       "      <th>...</th>\n",
       "      <td>...</td>\n",
       "    </tr>\n",
       "    <tr>\n",
       "      <th>17131</th>\n",
       "      <td>-1.925587</td>\n",
       "    </tr>\n",
       "    <tr>\n",
       "      <th>17132</th>\n",
       "      <td>0.238973</td>\n",
       "    </tr>\n",
       "    <tr>\n",
       "      <th>17133</th>\n",
       "      <td>0.000000</td>\n",
       "    </tr>\n",
       "    <tr>\n",
       "      <th>17134</th>\n",
       "      <td>0.000000</td>\n",
       "    </tr>\n",
       "    <tr>\n",
       "      <th>17135</th>\n",
       "      <td>0.000000</td>\n",
       "    </tr>\n",
       "  </tbody>\n",
       "</table>\n",
       "<p>17136 rows × 1 columns</p>\n",
       "</div>"
      ],
      "text/plain": [
       "       Previsao\n",
       "0      0.000000\n",
       "1      0.000000\n",
       "2      0.000000\n",
       "3      0.000000\n",
       "4      0.000000\n",
       "...         ...\n",
       "17131 -1.925587\n",
       "17132  0.238973\n",
       "17133  0.000000\n",
       "17134  0.000000\n",
       "17135  0.000000\n",
       "\n",
       "[17136 rows x 1 columns]"
      ]
     },
     "execution_count": 3,
     "metadata": {},
     "output_type": "execute_result"
    }
   ],
   "source": [
    "Previsoes = pd.DataFrame(Previsoes, columns=['Previsao'])\n",
    "Previsoes"
   ]
  }
 ],
 "metadata": {
  "kernelspec": {
   "display_name": "base",
   "language": "python",
   "name": "python3"
  },
  "language_info": {
   "codemirror_mode": {
    "name": "ipython",
    "version": 3
   },
   "file_extension": ".py",
   "mimetype": "text/x-python",
   "name": "python",
   "nbconvert_exporter": "python",
   "pygments_lexer": "ipython3",
   "version": "3.11.7"
  }
 },
 "nbformat": 4,
 "nbformat_minor": 5
}
